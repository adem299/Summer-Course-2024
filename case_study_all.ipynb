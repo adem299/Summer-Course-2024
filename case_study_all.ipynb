{
 "cells": [
  {
   "cell_type": "markdown",
   "metadata": {},
   "source": [
    "Case Study 1"
   ]
  },
  {
   "cell_type": "code",
   "execution_count": 2,
   "metadata": {},
   "outputs": [
    {
     "name": "stdout",
     "output_type": "stream",
     "text": [
      "The miles/gallon for this tank was 22.421875\n",
      "The miles/gallon for this tank was 19.417476\n",
      "The miles/gallon for this tank was 24.000000\n",
      "The overall average miles/gallon was 21.601423\n"
     ]
    }
   ],
   "source": [
    "def miles_per_gallon():\n",
    "    total_miles = 0\n",
    "    total_gallons = 0\n",
    "    \n",
    "    while True:\n",
    "        gallons_used = float(input(\"Enter the gallons used (-1 to end): \"))\n",
    "        \n",
    "        if gallons_used == -1:\n",
    "            break\n",
    "        \n",
    "        miles_driven = float(input(\"Enter the miles driven: \"))\n",
    "        \n",
    "        miles_per_gallon_tank = miles_driven / gallons_used\n",
    "        print(f\"The miles/gallon for this tank was {miles_per_gallon_tank:.6f}\")\n",
    "        \n",
    "        total_miles += miles_driven\n",
    "        total_gallons += gallons_used\n",
    "    \n",
    "    if total_gallons != 0:\n",
    "        overall_miles_per_gallon = total_miles / total_gallons\n",
    "        print(f\"The overall average miles/gallon was {overall_miles_per_gallon:.6f}\")\n",
    "    else:\n",
    "        print(\"No data entered.\")\n",
    "\n",
    "miles_per_gallon()"
   ]
  },
  {
   "cell_type": "markdown",
   "metadata": {},
   "source": [
    "Case Study 2"
   ]
  },
  {
   "cell_type": "code",
   "execution_count": 3,
   "metadata": {},
   "outputs": [
    {
     "name": "stdout",
     "output_type": "stream",
     "text": [
      "Welcome to the Craps game!\n",
      "First roll: 8\n",
      "Your point is: 8\n",
      "Next roll: 5\n",
      "Next roll: 7\n",
      "You lose by rolling a 7!\n"
     ]
    }
   ],
   "source": [
    "import random\n",
    "\n",
    "def roll_dice():\n",
    "    # Generate a random result for rolling two dice\n",
    "    return random.randint(1, 6) + random.randint(1, 6)\n",
    "\n",
    "def get_roll_input():\n",
    "    while True:\n",
    "        # Prompt user input\n",
    "        user_input = input(\"Type 'roll' to roll the dice: \").strip().lower()\n",
    "        if user_input == 'roll':\n",
    "            return roll_dice()\n",
    "        else:\n",
    "            print(\"Invalid input. Type 'roll' to roll the dice.\")\n",
    "\n",
    "def play_craps():\n",
    "    print(\"Welcome to the Craps game!\")\n",
    "    \n",
    "    # First roll\n",
    "    first_roll = get_roll_input()\n",
    "    print(f\"First roll: {first_roll}\")\n",
    "    \n",
    "    # Check the result of the first roll\n",
    "    if first_roll in [7, 11]:\n",
    "        print(\"You win!\")\n",
    "        return True\n",
    "    elif first_roll in [2, 3, 12]:\n",
    "        print(\"You lose (craps)!\")\n",
    "        return False\n",
    "    else:\n",
    "        # Set the point and continue the game\n",
    "        point = first_roll\n",
    "        print(f\"Your point is: {point}\")\n",
    "        \n",
    "        while True:\n",
    "            current_roll = get_roll_input()\n",
    "            print(f\"Next roll: {current_roll}\")\n",
    "            \n",
    "            if current_roll == point:\n",
    "                print(\"You win by making your point!\")\n",
    "                return True\n",
    "            elif current_roll == 7:\n",
    "                print(\"You lose by rolling a 7!\")\n",
    "                return False\n",
    "\n",
    "if __name__ == \"__main__\":\n",
    "    play_craps()\n"
   ]
  },
  {
   "cell_type": "markdown",
   "metadata": {},
   "source": [
    "Case Study 3"
   ]
  },
  {
   "cell_type": "code",
   "execution_count": 4,
   "metadata": {},
   "outputs": [
    {
     "name": "stdout",
     "output_type": "stream",
     "text": [
      "Minimum: 174\n",
      "Maximum: 1704\n",
      "Range: 1530\n",
      "Mean: 845.7\n",
      "Median: 704.5\n",
      "Variance: 253620.74736842106\n",
      "Standard Deviation: 503.60773164082883\n"
     ]
    }
   ],
   "source": [
    "import statistics\n",
    "\n",
    "# List of infected patients per day\n",
    "infected_patients = [174, 335, 278, 214, 422, 513, 737, 672, 489, 412, 1301, 1105, 1123, 1376, 1502, 894, 665, 1704, 1656, 1342]\n",
    "\n",
    "# Calculate statistics\n",
    "minimum = min(infected_patients)\n",
    "maximum = max(infected_patients)\n",
    "range = maximum - minimum\n",
    "mean = statistics.mean(infected_patients)\n",
    "median = statistics.median(infected_patients)\n",
    "variance = statistics.variance(infected_patients)\n",
    "std_dev = statistics.stdev(infected_patients)\n",
    "\n",
    "# Display statistics\n",
    "print(f\"Minimum: {minimum}\")\n",
    "print(f\"Maximum: {maximum}\")\n",
    "print(f\"Range: {range}\")\n",
    "print(f\"Mean: {mean}\")\n",
    "print(f\"Median: {median}\")\n",
    "print(f\"Variance: {variance}\")\n",
    "print(f\"Standard Deviation: {std_dev}\")"
   ]
  }
 ],
 "metadata": {
  "kernelspec": {
   "display_name": "Python 3",
   "language": "python",
   "name": "python3"
  },
  "language_info": {
   "codemirror_mode": {
    "name": "ipython",
    "version": 3
   },
   "file_extension": ".py",
   "mimetype": "text/x-python",
   "name": "python",
   "nbconvert_exporter": "python",
   "pygments_lexer": "ipython3",
   "version": "3.9.12"
  }
 },
 "nbformat": 4,
 "nbformat_minor": 2
}
